{
 "cells": [
  {
   "cell_type": "markdown",
   "metadata": {},
   "source": [
    "# propery decorator"
   ]
  },
  {
   "cell_type": "code",
   "execution_count": 4,
   "metadata": {},
   "outputs": [
    {
     "name": "stdout",
     "output_type": "stream",
     "text": [
      "run\n",
      "exe\n"
     ]
    }
   ],
   "source": [
    "class Hello:\n",
    "\t\n",
    "\tdef __init__(self, fname=\"\", lname=\"\", grade=\"\"):\t\t\n",
    "\t\tself.fname = fname\n",
    "\t\tself.lname = lname\n",
    "\t\tself.grade = grade\n",
    "\n",
    "\tdef execute(self):\n",
    "\t\tprint(\"exe\")\n",
    "\n",
    "\tdef run(self):\n",
    "\t\tprint(\"run\")\n",
    "\n",
    "if __name__=='__main__':\n",
    "\th = Hello()\n",
    "\th.run()\n",
    "\th.execute()\n"
   ]
  },
  {
   "cell_type": "code",
   "execution_count": 1,
   "metadata": {},
   "outputs": [
    {
     "name": "stdout",
     "output_type": "stream",
     "text": [
      "\u001b[31mERROR: Could not find a version that satisfies the requirement MetaTrader5 (from versions: none)\u001b[0m\u001b[31m\n",
      "\u001b[0m\u001b[31mERROR: No matching distribution found for MetaTrader5\u001b[0m\u001b[31m\n",
      "\u001b[0mNote: you may need to restart the kernel to use updated packages.\n"
     ]
    }
   ],
   "source": [
    "pip install MetaTrader5"
   ]
  }
 ],
 "metadata": {
  "kernelspec": {
   "display_name": ".venv",
   "language": "python",
   "name": "python3"
  },
  "language_info": {
   "codemirror_mode": {
    "name": "ipython",
    "version": 3
   },
   "file_extension": ".py",
   "mimetype": "text/x-python",
   "name": "python",
   "nbconvert_exporter": "python",
   "pygments_lexer": "ipython3",
   "version": "3.13.1"
  }
 },
 "nbformat": 4,
 "nbformat_minor": 2
}
