{
 "cells": [
  {
   "cell_type": "code",
   "execution_count": null,
   "metadata": {},
   "outputs": [],
   "source": [
    "print(\"hello\")\n",
    "# https://github.com/Quantreo/MetaTrader-5-AUTOMATED-TRADING-using-Python/blob/main/01_Basics_of_Python.ipynb"
   ]
  },
  {
   "cell_type": "code",
   "execution_count": null,
   "metadata": {},
   "outputs": [],
   "source": [
    "# Dictionry ADD, UPDATE, DELETE\n",
    "\n",
    "dict = {\"name\": \"wit\"}\n",
    "# add\n",
    "dict[\"hello\"] = \"world\"\n",
    "# update \n",
    "dict[\"hello\"] = 123456789\n",
    "# delete\n",
    "\n",
    "# dict\n",
    "\n",
    "# Extract a value\n",
    "# dict[\"hello\"]\n",
    "\n",
    "# Delete a value\n",
    "# del dict[\"hello\"]\n",
    "\n",
    "# How to extract the key names\n",
    "# dict.keys() dict_keys(['name', 'hello'])\n",
    "\n",
    "# dict"
   ]
  },
  {
   "cell_type": "markdown",
   "metadata": {},
   "source": [
    "# Learn OOP"
   ]
  },
  {
   "cell_type": "code",
   "execution_count": null,
   "metadata": {},
   "outputs": [],
   "source": [
    "# class Player:\n",
    "# class Player():\n",
    "# class Player(object):\n",
    "\n",
    "class Player:\n",
    "\tdef __init__(self): # duner -> double underscore\n",
    "\t\tself.fname = \"\"\n",
    "\t\tself.lname = \"\"\n",
    "\t\tself.number = 0\n",
    "\t\t\n",
    "class PlayerNew:\n",
    "\tdef __init__(self, fname_, lname_, number_): # duner -> double underscore\n",
    "\t\tself.fname = fname_\n",
    "\t\tself.lname = lname_\n",
    "\t\tself.number = number_\n",
    "\n",
    "if __name__ == '__main__':\n",
    "\tp1 = Player()\n",
    "\tp1.fname = \"AAA\"\n",
    "\tp1.lname = \"BBB\"\n",
    "\tp1.number = 9\n",
    "\n",
    "\tp1 = Player()\n",
    "\tp1.fname = \"CCC\"\n",
    "\tp1.lname = \"DDD\"\n",
    "\tp1.number = 10\n",
    "\n",
    "\tp1a = PlayerNew(\"EEE\", \"FFF\", 11)\n",
    "\tp1b = PlayerNew(\"GGG\", \"HHH\", 1)\n",
    "\n",
    "\tprint(p1a.__dict__)\n",
    "\tprint(p1b.__dir__)\n",
    "\n",
    "\n",
    "\n",
    "\n"
   ]
  },
  {
   "cell_type": "code",
   "execution_count": null,
   "metadata": {},
   "outputs": [],
   "source": [
    "# Turple demo\n",
    "def demo_tuple():\n",
    "\tp1 = \"joe\", \"ko\", 12\n",
    "\tprint(p1)\n",
    "\tprint(p1[1])\n",
    "\n",
    "if __name__ == '__main__':\n",
    "\tdemo_tuple()\n"
   ]
  },
  {
   "cell_type": "code",
   "execution_count": null,
   "metadata": {},
   "outputs": [],
   "source": [
    "# Dictionary demo\n",
    "def dict_demo():\n",
    "\tp12 = { \"fname\": \"joe\", \"lname\": \"ko\", \"num\": 12 }\n",
    "\tprint(p12)\n",
    "\tprint(p12[\"fname\"])\n",
    "\n",
    "if __name__ == '__main__':\n",
    "\tdict_demo()"
   ]
  },
  {
   "cell_type": "code",
   "execution_count": null,
   "metadata": {},
   "outputs": [],
   "source": [
    "class Singer:\n",
    "\tdef __init__(self, fname, lname = None, country = \"USA\"):\n",
    "\t\tself.fname = fname\n",
    "\t\tself.lname = lname\n",
    "\t\tself.country = country\n",
    "\t\n",
    "\tdef __str__(self):\n",
    "\t\treturn \"fname: {} lname: {} country: {}\".format(self.fname, self.lname, self.country)\n",
    "\n",
    "if __name__ == '__main__':\n",
    "\ts1 = Singer(lname=\"swift\", fname=\"taler\", country=\"USX\")\n",
    "\tprint(s1)\n"
   ]
  },
  {
   "cell_type": "code",
   "execution_count": null,
   "metadata": {},
   "outputs": [],
   "source": [
    "# class and importing\n",
    "from medal import Medal\n",
    "\n",
    "if __name__ == '__main__':\n",
    "\tjp = Medal()\n",
    "\tprint(jp.total())\n",
    "\n"
   ]
  },
  {
   "cell_type": "code",
   "execution_count": null,
   "metadata": {},
   "outputs": [],
   "source": [
    "\n",
    "# import class from .py file\n",
    "# https://saturncloud.io/blog/how-to-import-python-file-as-module-in-jupyter-notebook/\n",
    "\n",
    "import my_medal as mm\n",
    "\n",
    "if __name__ == '__main__':\n",
    "\tm = mm.MyMedal()\n",
    "\tstr = m.total()\n",
    "\tprint(str)\n"
   ]
  },
  {
   "cell_type": "code",
   "execution_count": null,
   "metadata": {},
   "outputs": [],
   "source": [
    "import my_medal as m1\n",
    "import my_medal2 as m2\n",
    "\n",
    "if __name__ == '__main__':\n",
    "\tobj2 = m2.MyMedal2()\n",
    "\tprint(obj2.total())\n",
    "\n",
    "\tobj1 = m1.MyMedal()\n",
    "\tprint( obj1.total() )\n",
    "\t\n"
   ]
  },
  {
   "cell_type": "code",
   "execution_count": 55,
   "metadata": {},
   "outputs": [],
   "source": [
    "class Wmi:\n",
    "\tdef __init__(self, w_km, h_cm):\n",
    "\t\t# opt + click multiple area for multi edit\t\t\n",
    "\t\tself.w_km = w_km\n",
    "\t\tself.h_cm = h_cm\n",
    "\n",
    "\t\tpass"
   ]
  },
  {
   "cell_type": "code",
   "execution_count": 84,
   "metadata": {},
   "outputs": [
    {
     "name": "stdout",
     "output_type": "stream",
     "text": [
      "Thailand 1 2\n"
     ]
    }
   ],
   "source": [
    "\n",
    "class MyMedal:\n",
    "\t\n",
    "\tdef __init__(self, country = \"Thailand\", gold = 0, silver = 0, bronze = 0):\n",
    "\t\tself.country = country\n",
    "\t\tself.gold = gold\n",
    "\t\tself.silver = silver\n",
    "\t\tself.bronze = bronze\n",
    "\n",
    "\tdef get_str(self):\n",
    "\t\treturn \"{} {} {}\".format(self.country,  self.gold, self.silver)\n",
    "\t\n",
    "\tdef __str__(self):\t\t\n",
    "\t\t# print('xx')\n",
    "\t\t# return \"hello\"\n",
    "\t\t# return \"country: {:15} g: {:3} s: {:3} b: {:3} \".format(self.country, self.gold, self.silver, self.bronze)\n",
    "\t\ta = vars(self)\n",
    "\t\tprint(a)\n",
    "\t\ts = a.items\n",
    "\t\treturn \"\\n\".join(s)\n",
    "\t\n",
    "\t# def __repr__(self):\n",
    "\t# \treturn repr( ( self.country, self.gold, self.silver ) )\n",
    "\t\n",
    "\n",
    "if __name__ == '__main__':\n",
    "\tmm = MyMedal(\"Thailand\", 1,2,3)\n",
    "\tprint(mm.get_str())\n",
    "\n",
    "\t# m = [\n",
    "\t# \tMyMedal(\"Thailand\", 1,2,3),\n",
    "\t# \tMyMedal(\"USA\", 4,5,6)\n",
    "\t# ]\n",
    "\n",
    "\t# for c in m:\n",
    "\t# \tprint(c)"
   ]
  },
  {
   "cell_type": "code",
   "execution_count": null,
   "metadata": {},
   "outputs": [],
   "source": []
  }
 ],
 "metadata": {
  "kernelspec": {
   "display_name": ".venv",
   "language": "python",
   "name": "python3"
  },
  "language_info": {
   "codemirror_mode": {
    "name": "ipython",
    "version": 3
   },
   "file_extension": ".py",
   "mimetype": "text/x-python",
   "name": "python",
   "nbconvert_exporter": "python",
   "pygments_lexer": "ipython3",
   "version": "3.13.1"
  }
 },
 "nbformat": 4,
 "nbformat_minor": 2
}
