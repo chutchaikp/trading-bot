{
 "cells": [
  {
   "cell_type": "code",
   "execution_count": 5,
   "metadata": {},
   "outputs": [
    {
     "name": "stdout",
     "output_type": "stream",
     "text": [
      "\u001b[31mERROR: Could not find a version that satisfies the requirement MetaTrader5 (from versions: none)\u001b[0m\u001b[31m\n",
      "\u001b[0m\u001b[31mERROR: No matching distribution found for MetaTrader5\u001b[0m\u001b[31m\n",
      "\u001b[0m"
     ]
    }
   ],
   "source": [
    "# ยิงผ่าน MT5 ที่ local\n",
    "# ยิงผ่าน Server\n",
    "\n",
    "# MetaTrader5 provides a lot of binary wheels but only for w32 and w64. No Linux, no MacOS and no source code. It seems the software is Windows-only.\n",
    "# Their site recommends to use one of the w32/w64 emulators on MacOS.\n",
    "\n",
    "# !pip3 install MetaTrader5\n",
    "\n",
    "# !pip3 install pyodbc"
   ]
  },
  {
   "cell_type": "code",
   "execution_count": null,
   "metadata": {},
   "outputs": [],
   "source": [
    "# ยิงผ่าน MT5 ที่ local\n",
    "# https://academy.investic.ai/2024/08/12/introductory-guide-to-using-python-with-mt5/\n",
    "\n",
    "import MetaTrader5 as mt5\n",
    "\n",
    "if mt5.initialize(\n",
    "\t\tpath=\"C:\\\\Program files\\\\path to MT5 terminal \",\n",
    "\t\tlogin=123456,\n",
    "\t\tpassword=\"xxx\",\n",
    "\t\tserver=\"MetaQuotesxxx\"\n",
    "\t)\n",
    "\tprint(\"Initialization successful\")\n"
   ]
  },
  {
   "cell_type": "code",
   "execution_count": null,
   "metadata": {},
   "outputs": [],
   "source": [
    "# คำนวณกำไรจากคำสั่งซื้อขาย\n",
    "profit = mt5.order_calc_profit(mt5.ORDER_TYPE_BUY, \"EURUSD\", 1.0, 1.1000, 1.1200)\n",
    "print(f\"Profit: {profit}\")"
   ]
  },
  {
   "cell_type": "code",
   "execution_count": null,
   "metadata": {},
   "outputs": [],
   "source": [
    "# ตรวจสอบคำสั่งซื้อขายก่อนทำการส่งคำสั่ง\n",
    "order = {\n",
    "\t\"action\": mt5.TRADE_ACTION_DEAL,\n",
    "\t\"symbol\": \"EURUSD\",\n",
    "\t\"volume\": 1.0,\n",
    "\t\"type\": mt5.ORDER_TYPE_BUY,\n",
    "\t\"price\": 1.1000,\n",
    "\t\"sl\": 1.0900,\n",
    "\t\"tp\": 1.1200,\n",
    "\t\"deviation\": 10,\n",
    "}\n",
    "result = mt5.order_check(order)\n",
    "print(f\"Order Check Result: {result.comment}\")\n"
   ]
  },
  {
   "cell_type": "code",
   "execution_count": null,
   "metadata": {},
   "outputs": [],
   "source": [
    "# ส่งคำสั่งซื้อขายไปยังเซิร์ฟเวอร์\n",
    "order = {\n",
    "\t\"action\": mt5.TRADE_ACTION_DEAL,\n",
    "\t\"symbol\": \"EURUSD\",\n",
    "\t\"volume\": 1.0,\n",
    "\t\"type\": mt5.ORDER_TYPE_BUY,\n",
    "\t\"price\": 1.1000,\n",
    "\t\"sl\": 1.0900,\n",
    "\t\"tp\": 1.1200,\n",
    "\t\"deviation\": 10,\n",
    "}\n",
    "result = mt5.order_send(order)\n",
    "print(f\"Order Send Result: {result.comment}\")"
   ]
  },
  {
   "cell_type": "code",
   "execution_count": null,
   "metadata": {},
   "outputs": [],
   "source": [
    "# ดึงจำนวน Position ที่เปิดอยู่ทั้งหมด\n",
    "total_positions = mt5.positions_total()\n",
    "print(f\"Total Positions: {total_positions}\")"
   ]
  },
  {
   "cell_type": "code",
   "execution_count": null,
   "metadata": {},
   "outputs": [],
   "source": [
    "# ดึงรายการ Position ที่เปิดอยู่ทั้งหมด\n",
    "positions = mt5.positions_get()\n",
    "for position in positions:\n",
    "\tprint(f\"Symbol: {position.symbol}, Vulume: {position.volume}\")"
   ]
  },
  {
   "cell_type": "code",
   "execution_count": 1,
   "metadata": {},
   "outputs": [
    {
     "ename": "NameError",
     "evalue": "name 'datetime' is not defined",
     "output_type": "error",
     "traceback": [
      "\u001b[0;31m---------------------------------------------------------------------------\u001b[0m",
      "\u001b[0;31mNameError\u001b[0m                                 Traceback (most recent call last)",
      "Cell \u001b[0;32mIn[1], line 1\u001b[0m\n\u001b[0;32m----> 1\u001b[0m \u001b[38;5;28mprint\u001b[39m(\u001b[38;5;124m'\u001b[39m\u001b[38;5;124mtime: \u001b[39m\u001b[38;5;124m'\u001b[39m, \u001b[43mdatetime\u001b[49m\u001b[38;5;241m.\u001b[39mnow())\n",
      "\u001b[0;31mNameError\u001b[0m: name 'datetime' is not defined"
     ]
    }
   ],
   "source": [
    "\n",
    "print('time: ', datetime.now())"
   ]
  }
 ],
 "metadata": {
  "kernelspec": {
   "display_name": ".venv",
   "language": "python",
   "name": "python3"
  },
  "language_info": {
   "codemirror_mode": {
    "name": "ipython",
    "version": 3
   },
   "file_extension": ".py",
   "mimetype": "text/x-python",
   "name": "python",
   "nbconvert_exporter": "python",
   "pygments_lexer": "ipython3",
   "version": "3.13.1"
  }
 },
 "nbformat": 4,
 "nbformat_minor": 2
}
