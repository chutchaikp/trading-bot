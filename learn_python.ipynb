{
 "cells": [
  {
   "cell_type": "code",
   "execution_count": 1,
   "metadata": {},
   "outputs": [
    {
     "name": "stdout",
     "output_type": "stream",
     "text": [
      "hello\n"
     ]
    }
   ],
   "source": [
    "print(\"hello\")\n",
    "# https://github.com/Quantreo/MetaTrader-5-AUTOMATED-TRADING-using-Python/blob/main/01_Basics_of_Python.ipynb"
   ]
  },
  {
   "cell_type": "code",
   "execution_count": 10,
   "metadata": {},
   "outputs": [
    {
     "data": {
      "text/plain": [
       "dict_keys(['name', 'hello'])"
      ]
     },
     "execution_count": 10,
     "metadata": {},
     "output_type": "execute_result"
    }
   ],
   "source": [
    "# Dictionry ADD, UPDATE, DELETE\n",
    "\n",
    "dict = {\"name\": \"wit\"}\n",
    "# add\n",
    "dict[\"hello\"] = \"world\"\n",
    "# update \n",
    "dict[\"hello\"] = 123456789\n",
    "# delete\n",
    "\n",
    "# dict\n",
    "\n",
    "# Extract a value\n",
    "# dict[\"hello\"]\n",
    "\n",
    "# Delete a value\n",
    "# del dict[\"hello\"]\n",
    "\n",
    "# How to extract the key names\n",
    "# dict.keys() dict_keys(['name', 'hello'])\n",
    "\n",
    "# dict"
   ]
  },
  {
   "cell_type": "markdown",
   "metadata": {},
   "source": [
    "# Learn OOP"
   ]
  },
  {
   "cell_type": "code",
   "execution_count": 18,
   "metadata": {},
   "outputs": [
    {
     "name": "stdout",
     "output_type": "stream",
     "text": [
      "{'fname': 'EEE', 'lname': 'FFF', 'number': 11}\n",
      "<built-in method __dir__ of PlayerNew object at 0x10717f250>\n"
     ]
    }
   ],
   "source": [
    "# class Player:\n",
    "# class Player():\n",
    "# class Player(object):\n",
    "\n",
    "class Player:\n",
    "\tdef __init__(self): # duner -> double underscore\n",
    "\t\tself.fname = \"\"\n",
    "\t\tself.lname = \"\"\n",
    "\t\tself.number = 0\n",
    "\t\t\n",
    "class PlayerNew:\n",
    "\tdef __init__(self, fname_, lname_, number_): # duner -> double underscore\n",
    "\t\tself.fname = fname_\n",
    "\t\tself.lname = lname_\n",
    "\t\tself.number = number_\n",
    "\n",
    "if __name__ == '__main__':\n",
    "\tp1 = Player()\n",
    "\tp1.fname = \"AAA\"\n",
    "\tp1.lname = \"BBB\"\n",
    "\tp1.number = 9\n",
    "\n",
    "\tp1 = Player()\n",
    "\tp1.fname = \"CCC\"\n",
    "\tp1.lname = \"DDD\"\n",
    "\tp1.number = 10\n",
    "\n",
    "\tp1a = PlayerNew(\"EEE\", \"FFF\", 11)\n",
    "\tp1b = PlayerNew(\"GGG\", \"HHH\", 1)\n",
    "\n",
    "\tprint(p1a.__dict__)\n",
    "\tprint(p1b.__dir__)\n",
    "\n",
    "\n",
    "\n",
    "\n"
   ]
  },
  {
   "cell_type": "code",
   "execution_count": 22,
   "metadata": {},
   "outputs": [
    {
     "name": "stdout",
     "output_type": "stream",
     "text": [
      "('joe', 'ko', 12)\n",
      "ko\n"
     ]
    }
   ],
   "source": [
    "# Turple demo\n",
    "def demo_tuple():\n",
    "\tp1 = \"joe\", \"ko\", 12\n",
    "\tprint(p1)\n",
    "\tprint(p1[1])\n",
    "\n",
    "if __name__ == '__main__':\n",
    "\tdemo_tuple()\n"
   ]
  },
  {
   "cell_type": "code",
   "execution_count": 25,
   "metadata": {},
   "outputs": [
    {
     "name": "stdout",
     "output_type": "stream",
     "text": [
      "{'fname': 'joe', 'lname': 'ko', 'num': 12}\n",
      "joe\n"
     ]
    }
   ],
   "source": [
    "# Dictionary demo\n",
    "def dict_demo():\n",
    "\tp12 = { \"fname\": \"joe\", \"lname\": \"ko\", \"num\": 12 }\n",
    "\tprint(p12)\n",
    "\tprint(p12[\"fname\"])\n",
    "\n",
    "if __name__ == '__main__':\n",
    "\tdict_demo()"
   ]
  },
  {
   "cell_type": "code",
   "execution_count": null,
   "metadata": {},
   "outputs": [
    {
     "name": "stdout",
     "output_type": "stream",
     "text": [
      "fname: taler lname: swift country: USX\n"
     ]
    }
   ],
   "source": [
    "class Singer:\n",
    "\tdef __init__(self, fname, lname = None, country = \"USA\"):\n",
    "\t\tself.fname = fname\n",
    "\t\tself.lname = lname\n",
    "\t\tself.country = country\n",
    "\t\n",
    "\tdef __str__(self):\n",
    "\t\treturn \"fname: {} lname: {} country: {}\".format(self.fname, self.lname, self.country)\n",
    "\n",
    "if __name__ == '__main__':\n",
    "\ts1 = Singer(lname=\"swift\", fname=\"taler\", country=\"USX\")\n",
    "\tprint(s1)\n"
   ]
  },
  {
   "cell_type": "code",
   "execution_count": null,
   "metadata": {},
   "outputs": [],
   "source": [
    "# class and importing\n"
   ]
  }
 ],
 "metadata": {
  "kernelspec": {
   "display_name": ".venv",
   "language": "python",
   "name": "python3"
  },
  "language_info": {
   "codemirror_mode": {
    "name": "ipython",
    "version": 3
   },
   "file_extension": ".py",
   "mimetype": "text/x-python",
   "name": "python",
   "nbconvert_exporter": "python",
   "pygments_lexer": "ipython3",
   "version": "3.13.1"
  }
 },
 "nbformat": 4,
 "nbformat_minor": 2
}
